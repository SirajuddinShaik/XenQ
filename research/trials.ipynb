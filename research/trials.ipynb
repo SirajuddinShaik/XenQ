{
 "cells": [
  {
   "cell_type": "code",
   "execution_count": 5,
   "metadata": {},
   "outputs": [
    {
     "name": "stdout",
     "output_type": "stream",
     "text": [
      "Server Response: {'output': 'Hello, World!\\ny is greater than x\\nIteration: 0\\nIteration: 1\\nIteration: 2\\nIteration: 3\\nIteration: 4\\nResult of addition: 30\\nSum: 30\\n', 'status': 'success'}\n"
     ]
    }
   ],
   "source": [
    "import requests\n",
    "import json\n",
    "code_snippet = \"\"\"print(\"Hello, World!\")\n",
    "x = 10\n",
    "y = 20\n",
    "if x > y:\n",
    "    print(\"x is greater than y\")\n",
    "else:\n",
    "    print(\"y is greater than x\")\n",
    "for i in range(5):  \n",
    "    print(\"Iteration:\", i)\n",
    "def add(a, b):\n",
    "    return a + b\n",
    "result = add(x, y)\n",
    "print(\"Result of addition:\", result)  \n",
    "print(\"Sum:\", x + y)\n",
    "\"\"\"\n",
    "\n",
    "# Sending the request to the server\n",
    "url = \"http://127.0.0.1:5000/api/execute\"  # Change this URL if needed\n",
    "headers = {\"Content-Type\": \"application/json\"}\n",
    "payload = json.dumps({\"code\": code_snippet})\n",
    "\n",
    "response = requests.post(url, data=payload, headers=headers)\n",
    "\n",
    "print(\"Server Response:\", response.json())"
   ]
  },
  {
   "cell_type": "code",
   "execution_count": null,
   "metadata": {},
   "outputs": [],
   "source": [
    "\n",
    "payload = json.dumps({\"data\": code_snippet})"
   ]
  },
  {
   "cell_type": "code",
   "execution_count": 26,
   "metadata": {},
   "outputs": [
    {
     "name": "stdout",
     "output_type": "stream",
     "text": [
      "File content: {'data': '[{\"file_path\": \"requirements1.json\",\\n \"content\": \"content\"}]\\n', 'status': 'success'}\n",
      "Server Response: 200\n"
     ]
    }
   ],
   "source": [
    "url = \"http://127.0.0.1:5000/api/read_file\"\n",
    "headers = {\"Content-Type\": \"application/json\"}\n",
    "\n",
    "payload = json.dumps({\"file_path\": \"requirements1.json\"})\n",
    "response = requests.post(url, data=payload, headers=headers)\n",
    "if response.status_code == 200:\n",
    "    print(\"File content:\", response.json())\n",
    "print(\"Server Response:\", response.status_code)"
   ]
  },
  {
   "cell_type": "code",
   "execution_count": 27,
   "metadata": {},
   "outputs": [
    {
     "name": "stdout",
     "output_type": "stream",
     "text": [
      "File content: {'message': 'File requirements1.json updated successfully.', 'status': 'success'}\n",
      "Server Response: 200\n"
     ]
    }
   ],
   "source": [
    "url = \"http://127.0.0.1:5000/api/edit_file\"\n",
    "headers = {\"Content-Type\": \"application/json\"}\n",
    "content = \"\"\"[{\"file_path\": \"requirements1.json\",\n",
    " \"content\": \"content\"}]\n",
    "\"\"\"\n",
    "\n",
    "payload = json.dumps({\"file_path\": \"requirements1.json\", \"content\": content})\n",
    "response = requests.post(url, data=payload, headers=headers)\n",
    "if response.status_code == 200:\n",
    "    print(\"File content:\", response.json())\n",
    "print(\"Server Response:\", response.status_code)"
   ]
  },
  {
   "cell_type": "code",
   "execution_count": 29,
   "metadata": {},
   "outputs": [
    {
     "name": "stdout",
     "output_type": "stream",
     "text": [
      "File content: {'message': 'File requirements1.json deleted successfully.', 'status': 'success'}\n",
      "Server Response: 200\n"
     ]
    }
   ],
   "source": [
    "url = \"http://127.0.0.1:5000/api/delete_file\"\n",
    "headers = {\"Content-Type\": \"application/json\"}\n",
    "\n",
    "payload = json.dumps({\"file_path\": \"requirements1.json\"})\n",
    "response = requests.post(url, data=payload, headers=headers)\n",
    "if response.status_code == 200:\n",
    "    print(\"File content:\", response.json())\n",
    "print(\"Server Response:\", response.status_code)"
   ]
  },
  {
   "cell_type": "code",
   "execution_count": 30,
   "metadata": {},
   "outputs": [],
   "source": [
    "# Define a function that LLM can call\n",
    "def get_weather(city: str):\n",
    "    # Simulated API call\n",
    "    weather_data = {\n",
    "        \"New York\": {\"temperature\": \"15°C\", \"condition\": \"Cloudy\"},\n",
    "        \"San Francisco\": {\"temperature\": \"18°C\", \"condition\": \"Sunny\"},\n",
    "        \"London\": {\"temperature\": \"10°C\", \"condition\": \"Rainy\"}\n",
    "    }\n",
    "    return weather_data.get(city, {\"error\": \"City not found\"})\n",
    "\n",
    "# Define the function schema\n",
    "function_schema = {\n",
    "    \"name\": \"get_weather\",\n",
    "    \"description\": \"Get the current weather for a given city.\",\n",
    "    \"parameters\": {\n",
    "        \"type\": \"object\",\n",
    "        \"properties\": {\n",
    "            \"city\": {\"type\": \"string\", \"description\": \"Name of the city\"}\n",
    "        },\n",
    "        \"required\": [\"city\"]\n",
    "    }\n",
    "}\n",
    "\n",
    "# User's input prompt\n",
    "user_prompt = \"What is the weather like in New York?\"\n",
    "\n",
    "# Construct system prompt for function calling\n",
    "system_prompt = f\"\"\"\n",
    "You are an AI assistant that can call the function `get_weather` when needed.\n",
    "Function schema:\n",
    "{json.dumps(function_schema, indent=2)}\n",
    "\"\"\""
   ]
  },
  {
   "cell_type": "code",
   "execution_count": 32,
   "metadata": {},
   "outputs": [
    {
     "name": "stdout",
     "output_type": "stream",
     "text": [
      "\n",
      "You are an AI assistant that can call the function `get_weather` when needed.\n",
      "Function schema:\n",
      "{\n",
      "  \"name\": \"get_weather\",\n",
      "  \"description\": \"Get the current weather for a given city.\",\n",
      "  \"parameters\": {\n",
      "    \"type\": \"object\",\n",
      "    \"properties\": {\n",
      "      \"city\": {\n",
      "        \"type\": \"string\",\n",
      "        \"description\": \"Name of the city\"\n",
      "      }\n",
      "    },\n",
      "    \"required\": [\n",
      "      \"city\"\n",
      "    ]\n",
      "  }\n",
      "}\n",
      "\n"
     ]
    }
   ],
   "source": [
    "print(system_prompt)"
   ]
  },
  {
   "cell_type": "code",
   "execution_count": null,
   "metadata": {},
   "outputs": [],
   "source": []
  }
 ],
 "metadata": {
  "kernelspec": {
   "display_name": "xenq_venv",
   "language": "python",
   "name": "python3"
  },
  "language_info": {
   "codemirror_mode": {
    "name": "ipython",
    "version": 3
   },
   "file_extension": ".py",
   "mimetype": "text/x-python",
   "name": "python",
   "nbconvert_exporter": "python",
   "pygments_lexer": "ipython3",
   "version": "3.13.2"
  }
 },
 "nbformat": 4,
 "nbformat_minor": 2
}
