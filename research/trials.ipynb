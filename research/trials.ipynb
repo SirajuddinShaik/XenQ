# trials.ipynb for research/trials.ipynb
