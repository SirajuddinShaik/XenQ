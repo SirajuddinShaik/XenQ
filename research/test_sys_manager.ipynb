{
 "cells": [
  {
   "cell_type": "code",
   "execution_count": 1,
   "metadata": {},
   "outputs": [],
   "source": [
    "from xenq_client.components.system_manager import get_system_info, list_user_processes"
   ]
  },
  {
   "cell_type": "code",
   "execution_count": 4,
   "metadata": {},
   "outputs": [
    {
     "name": "stdout",
     "output_type": "stream",
     "text": [
      "| Name             |   Instance Count |   RAM Usage (MB) | Ports                        |\n",
      "|------------------|------------------|------------------|------------------------------|\n",
      "| node             |                6 |          1188.74 |                              |\n",
      "| lightning-server |                2 |           167.04 |                              |\n",
      "| jupyter-lab      |                1 |            75.68 |                              |\n",
      "| dockerd          |                1 |            71.65 |                              |\n",
      "| python           |                1 |            57.88 | 9005, 9006, 9007, 9008, 9009 |\n",
      "| zsh              |               14 |            56.27 |                              |\n",
      "| containerd       |                1 |            41.21 |                              |\n",
      "| sshd             |                5 |            32.45 |                              |\n",
      "| journalctl       |                3 |            20.9  |                              |\n",
      "| systemd-journald |                1 |            16.29 |                              |\n",
      "| systemd          |                1 |            10.77 |                              |\n",
      "| systemd-udevd    |                1 |             5.14 |                              |\n",
      "| oomd             |                1 |             4.61 |                              |\n",
      "| sudo             |                1 |             4.57 |                              |\n",
      "| dbus-daemon      |                1 |             3.81 |                              |\n",
      "| start-vscode.sh  |                1 |             3.24 |                              |\n",
      "| bash             |                1 |             2.87 |                              |\n",
      "| screen           |                1 |             2.25 |                              |\n",
      "| start-ssh.sh     |                1 |             0    |                              |\n"
     ]
    }
   ],
   "source": [
    "print(list_user_processes())"
   ]
  },
  {
   "cell_type": "code",
   "execution_count": null,
   "metadata": {},
   "outputs": [],
   "source": [
    "print(get_system_info())"
   ]
  }
 ],
 "metadata": {
  "language_info": {
   "name": "python"
  }
 },
 "nbformat": 4,
 "nbformat_minor": 2
}
