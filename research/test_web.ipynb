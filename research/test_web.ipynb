{
 "cells": [
  {
   "cell_type": "code",
   "execution_count": 1,
   "metadata": {},
   "outputs": [],
   "source": [
    "from xenq_server.components.tool_invoker_json import ToolInvoker"
   ]
  },
  {
   "cell_type": "code",
   "execution_count": 2,
   "metadata": {},
   "outputs": [],
   "source": [
    "tool = ToolInvoker()"
   ]
  },
  {
   "cell_type": "code",
   "execution_count": 3,
   "metadata": {},
   "outputs": [],
   "source": [
    "input = \"\"\"::internal\n",
    "### Tool Invocation:\n",
    "```json\n",
    "{\n",
    "  \"function_calls\": [\n",
    "    {\n",
    "      \"name\": \"search_web\",\n",
    "      \"parameters\": {\n",
    "        \"query\": \"latest news\"\n",
    "      }\n",
    "    }\n",
    "  ]\n",
    "}\n",
    "```\n",
    ":::\"\"\""
   ]
  },
  {
   "cell_type": "code",
   "execution_count": 4,
   "metadata": {},
   "outputs": [
    {
     "name": "stdout",
     "output_type": "stream",
     "text": [
      "[2025-04-16 11:01:19,718: INFO: lib: response: https://html.duckduckgo.com/html 200]\n",
      "['#### 🔹 [Breaking News, Latest News and Videos | CNN](https://www.cnn.com/)\\n> View the latest news and breaking news today for U.S., world, weather, entertainment, politics and health at CNN.com.\\n\\n💡 **Processed Notes**:\\n- R\\n- e\\n- q\\n- u\\n- e\\n- s\\n- t\\n- \\n- f\\n- a\\n- i\\n- l\\n- e\\n- d\\n- \\n- w\\n- i\\n- t\\n- h\\n- \\n- s\\n- t\\n- a\\n- t\\n- u\\n- s\\n- \\n- 5\\n- 0\\n- 0\\n\\n---\\n\\n#### 🔹 [Fox News - Breaking News Updates | Latest News Headlines | Photos ...](https://www.foxnews.com/)\\n> Get breaking news, latest updates, and current events from Fox News covering U.S., world, entertainment, health, business, technology, politics, and sports.\\n\\n💡 **Processed Notes**:\\n- R\\n- e\\n- q\\n- u\\n- e\\n- s\\n- t\\n- \\n- f\\n- a\\n- i\\n- l\\n- e\\n- d\\n- \\n- w\\n- i\\n- t\\n- h\\n- \\n- s\\n- t\\n- a\\n- t\\n- u\\n- s\\n- \\n- 5\\n- 0\\n- 0\\n\\n---']\n"
     ]
    },
    {
     "data": {
      "text/plain": [
       "'### Output From Backend\\n\\n1. #### 🔹 [Breaking News, Latest News and Videos | CNN](https://www.cnn.com/)\\n> View the latest news and breaking news today for U.S., world, weather, entertainment, politics and health at CNN.com.\\n\\n💡 **Processed Notes**:\\n- R\\n- e\\n- q\\n- u\\n- e\\n- s\\n- t\\n- \\n- f\\n- a\\n- i\\n- l\\n- e\\n- d\\n- \\n- w\\n- i\\n- t\\n- h\\n- \\n- s\\n- t\\n- a\\n- t\\n- u\\n- s\\n- \\n- 5\\n- 0\\n- 0\\n\\n---\\n\\n#### 🔹 [Fox News - Breaking News Updates | Latest News Headlines | Photos ...](https://www.foxnews.com/)\\n> Get breaking news, latest updates, and current events from Fox News covering U.S., world, entertainment, health, business, technology, politics, and sports.\\n\\n💡 **Processed Notes**:\\n- R\\n- e\\n- q\\n- u\\n- e\\n- s\\n- t\\n- \\n- f\\n- a\\n- i\\n- l\\n- e\\n- d\\n- \\n- w\\n- i\\n- t\\n- h\\n- \\n- s\\n- t\\n- a\\n- t\\n- u\\n- s\\n- \\n- 5\\n- 0\\n- 0\\n\\n---\\n'"
      ]
     },
     "execution_count": 4,
     "metadata": {},
     "output_type": "execute_result"
    }
   ],
   "source": [
    "await tool.pipeline(input)"
   ]
  },
  {
   "cell_type": "code",
   "execution_count": 7,
   "metadata": {},
   "outputs": [
    {
     "name": "stdout",
     "output_type": "stream",
     "text": [
      "[2025-04-16 11:07:43,395: INFO: lib: response: https://html.duckduckgo.com/html 200]\n"
     ]
    },
    {
     "data": {
      "text/plain": [
       "\"#### 🔹 [NBC News - Breaking News & Top Stories - Latest World, US & Local News](https://www.nbcnews.com/)\\n> Go to NBCNews.com for breaking news, videos, and the latest top stories in world news, business, politics, health and pop culture.\\n\\n💡 **Processed Notes**:\\n- Harvard's stance has created hope among some in the academic world that other institutions will take a stand against the administration.\\n- Judge in Abrego Garcia case suggests possible contempt proceedings against Trump admin. Judge ordered the administration to turn over evidence of their efforts to secure his return.\\n- U.S. pastor rescued in South Africa after 'high-intensity shootout' Josh Sullivan was abducted last week by a group of armed men. Videos from Chinese manufacturers have drawn millions of views on TikTok touting replicas of luxury goods.\\n- CDC says measles cases are most likely underreported as outbreak swells in Texas. State assessment found rodents on the sprawling New Mexico property of Gene Hackman and his wife.\\n- ain quarters had not been infested. New body camera footage shows dog refused to leave Betsy Arakawa's side.\\n- Army and Air Force libraries are ordered to review books for DEI material. Suspect in custody after 4 hurt in Texas high school shooting. 2 service members assigned to U.S.-Mexico border killed in N.M. vehicle crash.\\n- One of the country's leading Alzheimer's projects — and its 4,000 preserved brains — is in jeopardy because of a pause to NIH funding. What happens if a president and the federal gov are at odds? What would happen if the president were to declare a state of emergency? What are some of the top stories you saw on CNN this morning? Share your thoughts.\\n- e of his face is paralyzed. Autism rates have risen to 1 in 31 school-age children, CDC reports. FDA warns about fake Ozempic in U.S. supply chain.\\n- Hungary passes constitutional amendment to ban LGBTQ public events. Pride organizers say sponsors are pulling back amid DEI rollbacks, economic fears.\\n- Beef tallow as moisturizer? We asked derms if this trend is genius or gross. I found a $13 cure-all for my severely dry skin. The best sunscreens for kids to restock before summer.\\n\\n---\\n\\n#### 🔹 [Associated Press News: Breaking News | Latest News Today](https://apnews.com/)\\n> Read the latest headlines, breaking news, and videos at APNews.com, the definitive source for independent journalism from every corner of the globe\\n> ..\\n> Test Your News I.Q\\n> — take today's quiz\\n> Politics SECTIONS\\n> ..\\n> Officials give update on helicopter that plunged into the Hudson River\\n> 0:44\\n> Video captures aftermath of a plane crash near ...\\n\\n💡 **Processed Notes**:\\n- The daily transcript is a written version of each day's featured news stories. Use this transcript to help readers with reading comprehension and vocabulary. Use the weekly Newsquiz to test your knowledge of stories you saw on CNN.com.\\n- words: What judges and Trump's government say about Abrego Garcia's mistaken deportation. Test Your News I.Q. — take today’s quiz.\\n- ment Butler, Curry lead Warriors past Grizzlies 121-116 to secure seventh seed in West playoffs. Get email alerts for every college football Top 25 Poll release. The Sports Wire offers in-depth reporting from the world of sports.\\n- The daily transcript is a written version of each day's featured news stories. Use this transcript to help readers with reading comprehension and vocabulary. Use the weekly Newsquiz to test your knowledge of stories you saw on CNN iReport.\\n- The daily transcript is a written version of each day's featured news stories. Use this transcript to help readers with reading comprehension and vocabulary. Use the weekly Newsquiz to test your knowledge of stories you saw on CNN.com.\\n- The Oklahoma City bombing was 30 years ago. Some survivors worry America didn’t learn the lesson. The White House is starting a new media policy.\\n- The daily transcript is a written version of each day's featured news stories. Use this transcript to help readers with reading comprehension and vocabulary. Use the weekly Newsquiz to test your knowledge of stories you saw on CNN.\\n- Sleep training is no longer just for newborns. Some schools are taking it upon themselves to teach teenagers how to sleep.\\n- The daily transcript is a written version of each day's featured news stories. Use this transcript to help readers with reading comprehension and vocabulary. Use the weekly Newsquiz to test your knowledge of stories you saw on CNN iReport.\\n- Former Texas Rep. Mayra Flores is hospitalized hours after announcing 2026 run. Police say Millions in merchandise taken by burglars who tunneled through concrete into LA jewelry store.\\n\\n---\""
      ]
     },
     "execution_count": 7,
     "metadata": {},
     "output_type": "execute_result"
    }
   ],
   "source": [
    "output = await tool.search_web(\"Give the latest news of today?\", 2)\n",
    "output"
   ]
  },
  {
   "cell_type": "code",
   "execution_count": 11,
   "metadata": {},
   "outputs": [],
   "source": [
    "query = \"How to Become an NLP Scientist\"\n",
    "output = [{'title': 'Natural language processing - Wikipedia',\n",
    "  'href': 'https://en.wikipedia.org/wiki/Natural_language_processing',\n",
    "  'body': 'Natural language processing (NLP) is a subfield of computer science and especially artificial intelligence.It is primarily concerned with providing computers with the ability to process data encoded in natural language and is thus closely related to information retrieval, knowledge representation and computational linguistics, a subfield of linguistics.',\n",
    "  'processed': ['Natural language processing is a subfield of computer science and especially artificial intelligence. It is primarily concerned with providing computers with the ability to process data encoded in natural language and is closely related to information retrieval.',\n",
    "   \"Natural language processing has its roots in the 1950s. Alan Turing proposed what is now called the Turing test as a criterion of intelligence. The premise of symbolic NLP is well-summarized by John Searle 's Chinese room experiment.\",\n",
    "   'wn experiment in 1954 involved fully automatic translation of more than sixty Russian sentences into English. The authors claimed that within three or five years, machine translation would be a solved problem. However, real progress was much slower, and after the ALPAC report in 1966, funding for machine translation was dramatically reduced.',\n",
    "   \"mation about human thought or emotion, ELIZA sometimes provided a startlingly human-like interaction. Ross Quillian 's successful work on natural language was demonstrated with a vocabulary of only twenty words. The 1980s and early 1990s mark the heyday of symbolic methods in NLP.\",\n",
    "   'esearch on rule-based parsing (e.g., the development of HPSG as a computational operationalization of generative grammar. Other lines of research were continued. An important development (that eventually led to the statistical turn in the 1990s) was the rising importance of quantitative evaluation in this period.',\n",
    "   'Early successes in statistical methods in NLP occurred in the field of machine translation. These systems were able to take advantage of existing multilingual textual corpora. Most other systems depended on corpora specifically developed for the tasks implemented.',\n",
    "   'With the growth of the web, increasing amounts of raw (unannotated) language data have become available. Research has thus increasingly focused on unsupervised and semi-supervised learning algorithms. Such algorithms can learn from data that has not been hand-annotated with the desired answers.',\n",
    "   'multi-layer perceptron (with a single hidden layer and context length of several words, trained on up to 14 million words, by Bengio et al.) In the 2010s, representation learning and deep neural network -style (featuring many hidden layers) machine learning methods became widespread in natural language processing. This is increasingly important in medicine and healthcare where NLP helps analyze notes and text in electronic health records.',\n",
    "   'Symbolic approach was historically the first approach used both by AI in general and by NLP. Machine learning approaches, which include both statistical and neural networks, have many advantages over the symbolic approach.',\n",
    "   'Rule-based systems are commonly used when the amount of training data is insufficient to successfully apply machine learning methods. In the late 1980s and mid-1990s, the statistical approach ended a period of AI winter, caused by the inefficiencies of the rule-based approaches.',\n",
    "   'ems of hard if–then rules , were still very similar to the old rule-based approaches. Only the introduction of hidden Markov models , applied to part-of-speech tagging, announced the end of the oldRule-based approach. A major drawback of statistical methods is that they require elaborate feature engineering.',\n",
    "   'Natural language processing tasks can be subdivided into categories for convenience. Some of these tasks have direct real-world applications, while others more commonly serve as subtasks that are used to aid in solving larger tasks.',\n",
    "   'Speech recognition software must be able to recognize the wide variety of input as being identical to each other in terms of its textual equivalent.',\n",
    "   'The task of removing inflectional endings only and to return the base dictionary form of a word is also known as a lemma. Lemmatization is another technique for reducing words to their normalized form. Sometimes this process is also used in cases like bag of words creation in data mining.',\n",
    "   'Given a sentence, determine the part of speech (POS) for each word. Many words, especially common ones, can serve as multiple parts of speech. If this content contains information relevant to the query \"How to Become an NLP Scientist\", summarize only the relevant parts.',\n",
    "   'ming is the process of reducing inflected (or sometimes derived) words to a base form. Stemming yields similar results as lemmatization, but does so on grounds of rules, not a dictionary.',\n",
    "   'Determine the parse tree (grammatical analysis) of a given sentence. For a typical sentence there may be thousands of potential parses. Dependency parsing focuses on the relationships between words in a sentence. Constituency parsing uses a probabilistic context-free grammar (PCFG)',\n",
    "   'Named entity recognition (NER) determines which items in the text map to proper names, such as people or places. Capitalization can aid in recognizing named entities in languages such as English, but is often inaccurate or insufficient.',\n",
    "   'not capitalize names that serve as adjectives . Another name for this task is token classification. Sentiment analysis is a computational method used to identify and classify the emotional intent behind text.',\n",
    "   'More than one meaning is required for a word to make sense in a context. We have to select the meaning which makes the most sense in context. Given a piece of text, produce a formal representation of its semantics.',\n",
    "   'Coreference is concerned with matching up pronouns with nouns or names to which they refer. Discourse analysis can be extended to include full-fledged discourse analysis.',\n",
    "   'This rubric includes several related tasks. One task is discourse parsing, i.e. identifying the discourse structure of a connected text. Another possible task is recognizing and classifying the speech acts in a chunk of text.',\n",
    "   'Argument mining is the automatic extraction and identification of argumentative structures from natural language text with the aid of computer programs. Topic segmentation and recognition is a closely related task.',\n",
    "   'Grammatical error correction is impactful since it affects hundreds of millions of people that use or acquire English as a second language. As far as orthography, morphology, syntax and certain aspects of semantics are concerned, this can now (2019) be considered a largely solved problem.',\n",
    "   'a natural language into formal logic. Natural-language understanding (NLU) Convert chunks of text into more formal representations such as first-order logic structures.',\n",
    "   \"The first machine-generated book was created by a rule-based system in 1984 (Racter, The policeman's beard is half-constructed ). The first published work by a neural network was published in 2018, 1 the Road.\",\n",
    "   'Document AI platform sits on top of the NLP technology. It enables users with no prior experience of artificial intelligence, machine learning or NLP to quickly train a computer to extract the specific data they need from different document types.',\n",
    "   'Based on long-standing trends in the field, it is possible to extrapolate future directions of NLP. Interest on increasingly abstract, \"cognitive\" aspects of natural language. Increasing interest in multilinguality, and, potentially, multimodality.',\n",
    "   'Most higher-level NLP applications involve aspects that emulate intelligent behaviour. Cognition refers to \"the mental action or process of acquiring knowledge and understanding through thought, experience, and the senses\"',\n",
    "   'Cognitive linguistics is an area of computational linguistics that has strong ties with cognitive psychology. NLP algorithms are built from the perspective of cognitive science and linguistics.',\n",
    "   'tive NLP algorithm alike without additional information. Assign relative measures of meaning to a word, phrase, sentence or piece of text based on the information presented before and after the piece ofText being analyzed.',\n",
    "   'Ties with cognitive linguistics are part of the historical heritage of NLP, but they have been less frequently addressed since the statistical turn during the 1990s. Ideas of cognitive NLP are inherent to neural models multimodal NLP and developments in artificial intelligence.',\n",
    "   'Del approaches [ 59 ] and new directions in artificial general intelligence based on the free energy principle. Karl J. Friston at University College London.',\n",
    "   'implification Transformer (machine learning model) Truecasing Question answering Word2vec References [ edit ] ^ \"NLP\" . ^ \"The history of machine translation in a nutshell\" (PDF)',\n",
    "   'Chomskyan linguistics encourages the investigation of \" corner cases \" that stress the limits of its theoretical models. The creation of such corpora of real-world data is a fundamental part of machine-learning algorithms for natural language processing.',\n",
    "   'Your task: If this content contains information relevant to the query \"How to Become an NLP Scientist\", summarize only the relevant parts. If it is not relevant at all, respond only with this exact token.',\n",
    "   'Your task: If this content contains information relevant to the query \"How to Become an NLP Scientist\", summarize only the relevant parts. If it is not relevant at all, respond only with this exact token.',\n",
    "   'Until 2015, deep learning had evolved into the major framework of NLP. This was an early Deep Learning tutorial at the ACL 2012.',\n",
    "   'Your task: If this content contains information relevant to the query \"How to Become an NLP Scientist\", summarize only the relevant parts. If it is not relevant at all, respond only with this exact token.',\n",
    "   'Your task: If this content contains information relevant to the query \"How to Become an NLP Scientist\", summarize only the relevant parts. If it is not relevant at all, respond only with this exact token.',\n",
    "   'Your task: If this content contains information relevant to the query \"How to Become an NLP Scientist\", summarize only the relevant parts. If it is not relevant at all, respond only with this exact token:  \"U B U W E B :: Racter\"',\n",
    "   'Your task: If this content contains information relevant to the query \"How to Become an NLP Scientist\", summarize only the relevant parts. If it is not relevant at all, respond only with this exact token.',\n",
    "   'Cognitive science is an interdisciplinary field of researchers from Linguistics, psychology, neuroscience, philosophy, computer science, and anthropology.',\n",
    "   'Your task: If this content contains information relevant to the query \"How to Become an NLP Scientist\", summarize only the relevant parts. If it is not relevant at all, respond only with this exact token.',\n",
    "   \"NLP models are limited by the amount of context they receive. For example, Cain's Jawbone is a puzzle that has stumped humans for decades.\",\n",
    "   'use [difficulties] for researchers who hope to use them to do things such as analyze ancient languages. There are few historical records on long-gone civilizations to serve as training data for such a purpose.',\n",
    "   'Natural language processing is a branch of computer science. It is used in the fields of machine learning and natural language understanding. The term \"natural language processing\" is used to describe a variety of techniques.',\n",
    "   'Your task: If this content contains information relevant to the query \"How to Become an NLP Scientist\", summarize only the relevant parts. If it is not relevant at all, respond only with this exact token.',\n",
    "   'Your task: If this content contains information relevant to the query \"How to Become an NLP Scientist\", summarize only the relevant parts. If it is not relevant at all, respond only with this exact token: ',\n",
    "   'Your task: If this content contains information relevant to the query \"How to Become an NLP Scientist\", summarize only the relevant parts. If it is not relevant at all, respond only with this exact token.']},\n",
    " {'title': 'How to Become an NLP Scientist - Western Governors University',\n",
    "  'href': 'https://www.wgu.edu/career-guide/information-technology/nlp-scientist-career.html',\n",
    "  'body': 'An NLP scientist is responsible for the technical creation and coding of NLP devices and applications. Ultimately, these professionals provide machines with the ability to understand human languages. Whether an NLP scientist is responsible for the development of a physical device or a mobile application, their project will require the ...',\n",
    "  'processed': ['How to Become an NLP Scientist is responsible for the technical creation and coding of NLP devices and applications. Ultimately, these professionals provide machines with the ability to understand human languages.',\n",
    "   'NLP scientists benefit from undergraduate degrees in computer-related fields. NLP scientists also benefit from experience with the devices or applications to receive NLP technology.',\n",
    "   'An NLP scientist can fulfill a wide variety of tasks. While working to create programs that understand human language, NLP scientists will often interact with other team members.',\n",
    "   'An NLP scientist must satisfy basic education requirements. This includes a bachelor’s degree in computer science or a closely-related technological field.',\n",
    "   \"Lay the groundwork for the computing breakthroughs that will enable tomorrow's technologies. Utilize your previous college courses or IT experience to help you complete your degree faster. Tuition: $4,085 per 6-month term.\",\n",
    "   'A degree in computer science can give you critical IT skills for your future. The M.S. in Computer Science at WGU has three specializations for students to choose from. The specializations are Computing Systems, Human-Computer Interaction, and Machine Learning and Artificial Intelligence.',\n",
    "   'The salary of an NLP scientist averages $105,178 per year, with a range of roughly $78,000 to $139,000 per year. Employment for NLP scientists is expected to see growth of 22% from 2020 to 2021.',\n",
    "   'NLP scientists develop applications, collaborate with team members, and solve problems. Daily, the skills an NLP scientist uses can include: Text representation technique implementation. The ability to associate meaning with individual words in an N LP system.',\n",
    "   'ming languages before systems are approved. These and other skills allow NLP scientists to fulfill the core responsibilities of their job while working well alongside fellow team members. Learn more about degree programs that can prepare you for this meaningful career.',\n",
    "   'Your task: If this content contains information relevant to the query \"How to Become an NLP Scientist\", summarize only the relevant parts. If it is not relevant at all, respond only with this exact token.']\n",
    "}]\n"
   ]
  },
  {
   "cell_type": "code",
   "execution_count": 12,
   "metadata": {},
   "outputs": [],
   "source": [
    "query = \"How to Become an NLP Scientist\"\n",
    "import random\n",
    "for data in output:\n",
    "    processed = [chunk for chunk in data[\"processed\"] if query not in chunk]\n",
    "    total = len(processed)\n",
    "    if total <= 10:\n",
    "        data[\"processed\"] = processed  # Keep all if 10 or fewer\n",
    "    else:\n",
    "        indices = sorted(random.sample(range(total), 10))  # Unique, sorted indices\n",
    "        data[\"processed\"] = [processed[i] for i in indices]"
   ]
  },
  {
   "cell_type": "code",
   "execution_count": 13,
   "metadata": {},
   "outputs": [
    {
     "data": {
      "text/plain": [
       "[{'title': 'Natural language processing - Wikipedia',\n",
       "  'href': 'https://en.wikipedia.org/wiki/Natural_language_processing',\n",
       "  'body': 'Natural language processing (NLP) is a subfield of computer science and especially artificial intelligence.It is primarily concerned with providing computers with the ability to process data encoded in natural language and is thus closely related to information retrieval, knowledge representation and computational linguistics, a subfield of linguistics.',\n",
       "  'processed': [\"Natural language processing has its roots in the 1950s. Alan Turing proposed what is now called the Turing test as a criterion of intelligence. The premise of symbolic NLP is well-summarized by John Searle 's Chinese room experiment.\",\n",
       "   'esearch on rule-based parsing (e.g., the development of HPSG as a computational operationalization of generative grammar. Other lines of research were continued. An important development (that eventually led to the statistical turn in the 1990s) was the rising importance of quantitative evaluation in this period.',\n",
       "   'Early successes in statistical methods in NLP occurred in the field of machine translation. These systems were able to take advantage of existing multilingual textual corpora. Most other systems depended on corpora specifically developed for the tasks implemented.',\n",
       "   'With the growth of the web, increasing amounts of raw (unannotated) language data have become available. Research has thus increasingly focused on unsupervised and semi-supervised learning algorithms. Such algorithms can learn from data that has not been hand-annotated with the desired answers.',\n",
       "   'Natural language processing tasks can be subdivided into categories for convenience. Some of these tasks have direct real-world applications, while others more commonly serve as subtasks that are used to aid in solving larger tasks.',\n",
       "   'not capitalize names that serve as adjectives . Another name for this task is token classification. Sentiment analysis is a computational method used to identify and classify the emotional intent behind text.',\n",
       "   'Most higher-level NLP applications involve aspects that emulate intelligent behaviour. Cognition refers to \"the mental action or process of acquiring knowledge and understanding through thought, experience, and the senses\"',\n",
       "   'Del approaches [ 59 ] and new directions in artificial general intelligence based on the free energy principle. Karl J. Friston at University College London.',\n",
       "   'Chomskyan linguistics encourages the investigation of \" corner cases \" that stress the limits of its theoretical models. The creation of such corpora of real-world data is a fundamental part of machine-learning algorithms for natural language processing.',\n",
       "   'Natural language processing is a branch of computer science. It is used in the fields of machine learning and natural language understanding. The term \"natural language processing\" is used to describe a variety of techniques.']},\n",
       " {'title': 'How to Become an NLP Scientist - Western Governors University',\n",
       "  'href': 'https://www.wgu.edu/career-guide/information-technology/nlp-scientist-career.html',\n",
       "  'body': 'An NLP scientist is responsible for the technical creation and coding of NLP devices and applications. Ultimately, these professionals provide machines with the ability to understand human languages. Whether an NLP scientist is responsible for the development of a physical device or a mobile application, their project will require the ...',\n",
       "  'processed': ['NLP scientists benefit from undergraduate degrees in computer-related fields. NLP scientists also benefit from experience with the devices or applications to receive NLP technology.',\n",
       "   'An NLP scientist can fulfill a wide variety of tasks. While working to create programs that understand human language, NLP scientists will often interact with other team members.',\n",
       "   'An NLP scientist must satisfy basic education requirements. This includes a bachelor’s degree in computer science or a closely-related technological field.',\n",
       "   \"Lay the groundwork for the computing breakthroughs that will enable tomorrow's technologies. Utilize your previous college courses or IT experience to help you complete your degree faster. Tuition: $4,085 per 6-month term.\",\n",
       "   'A degree in computer science can give you critical IT skills for your future. The M.S. in Computer Science at WGU has three specializations for students to choose from. The specializations are Computing Systems, Human-Computer Interaction, and Machine Learning and Artificial Intelligence.',\n",
       "   'The salary of an NLP scientist averages $105,178 per year, with a range of roughly $78,000 to $139,000 per year. Employment for NLP scientists is expected to see growth of 22% from 2020 to 2021.',\n",
       "   'NLP scientists develop applications, collaborate with team members, and solve problems. Daily, the skills an NLP scientist uses can include: Text representation technique implementation. The ability to associate meaning with individual words in an N LP system.',\n",
       "   'ming languages before systems are approved. These and other skills allow NLP scientists to fulfill the core responsibilities of their job while working well alongside fellow team members. Learn more about degree programs that can prepare you for this meaningful career.']}]"
      ]
     },
     "execution_count": 13,
     "metadata": {},
     "output_type": "execute_result"
    }
   ],
   "source": [
    "output"
   ]
  },
  {
   "cell_type": "code",
   "execution_count": 6,
   "metadata": {},
   "outputs": [
    {
     "name": "stdout",
     "output_type": "stream",
     "text": [
      "### 🔹 [34 Best Things to Do in Paris, France - U.S. News Travel](https://travel.usnews.com/Paris_France/Things_To_Do/)\n",
      "> France #1 in Best Places to Visit in France\n",
      "> Credit\n",
      "> Courtesy of James Farley | Getty Images\n",
      "> Overview; ..\n",
      "> Paris Tours\n",
      "> 14 Best Paris Tours: Food, Versailles and More\n",
      "> April 8, 2025.\n",
      "\n",
      "💡 **Processed Notes**:\n",
      "- N\n",
      "- o\n",
      "- \n",
      "- D\n",
      "- t\n",
      "- \n",
      "- i\n",
      "- l\n",
      "- b\n",
      "- !\n",
      "\n",
      "---\n",
      "\n",
      "### 🔹 [Top 10 Paris Attractions - Paris Travel Guide](https://www.parisdiscoveryguide.com/paris-attractions-top-10.html)\n",
      "> 2\n",
      "> Louvre Museum (Musée du Louvre) - The Most Visited Museum in the WorldGlass pyramid at the Louvre at night\n",
      "> The enormous Louvre Museum receives over 10 million visitors a year, making it the world's most visited museum and a top Paris attraction.\n",
      "> Much of this popularity stems from the Louvre's three famous masterpieces, Leonardo di Vinci's Mona Lisa and two ancient Greek statues, Venus de ...\n",
      "\n",
      "💡 **Processed Notes**:\n",
      "- Versailles Palace is the most-visited palace in France and one of the most famous in Europe. Slow security check lines before you enter mean a 2-4 hour wait in line during most months of the year. Choose a guided tour if you want to spend much or all of a day here.\n",
      "- Guided tours get to access a separate, much faster security line. Choose one of these excellent guided tours and avoid the long wait in lines.\n",
      "- Versailles Palace & Gardens Full Access Ticket comes with an audio guide. \"Full access\" means you also get entrance to Marie Antoinette's Petit Trianon palace and \"Hamlet\" village.\n",
      "\n",
      "---\n"
     ]
    }
   ],
   "source": [
    "def convert_to_markdown(data):\n",
    "    markdown_output = \"\"\n",
    "\n",
    "    for item in data:\n",
    "        title = item.get(\"title\", \"No Title\")\n",
    "        href = item.get(\"href\", \"#\")\n",
    "        body = item.get(\"body\", \"\")\n",
    "        processed = item.get(\"processed\", [])\n",
    "\n",
    "        # Title and Link\n",
    "        markdown_output += f\"### 🔹 [{title}]({href})\\n\"\n",
    "\n",
    "        # Body\n",
    "        body_lines = body.strip().split(\". \")\n",
    "        for line in body_lines:\n",
    "            markdown_output += f\"> {line.strip()}\\n\"\n",
    "        markdown_output += \"\\n\"\n",
    "\n",
    "        # Processed Notes\n",
    "        if processed:\n",
    "            markdown_output += \"💡 **Processed Notes**:\\n\"\n",
    "            for note in processed:\n",
    "                if len(processed) == 1:\n",
    "                    markdown_output += f\"`{note}`\\n\"\n",
    "                else:\n",
    "                    markdown_output += f\"- {note.strip()}\\n\"\n",
    "\n",
    "        markdown_output += \"\\n---\\n\\n\"\n",
    "\n",
    "    return markdown_output.strip()\n",
    "\n",
    "\n",
    "# Example usage\n",
    "data = [\n",
    "    {\n",
    "        'title': '34 Best Things to Do in Paris, France - U.S. News Travel',\n",
    "        'href': 'https://travel.usnews.com/Paris_France/Things_To_Do/',\n",
    "        'body': 'France #1 in Best Places to Visit in France. Credit. Courtesy of James Farley | Getty Images. Overview; ... Paris Tours. 14 Best Paris Tours: Food, Versailles and More. April 8, 2025.',\n",
    "        'processed': ['N', 'o', ' ', 'D', 't', ' ', 'i', 'l', 'b', '!']\n",
    "    },\n",
    "    {\n",
    "        'title': 'Top 10 Paris Attractions - Paris Travel Guide',\n",
    "        'href': 'https://www.parisdiscoveryguide.com/paris-attractions-top-10.html',\n",
    "        'body': \"2. Louvre Museum (Musée du Louvre) - The Most Visited Museum in the WorldGlass pyramid at the Louvre at night. The enormous Louvre Museum receives over 10 million visitors a year, making it the world's most visited museum and a top Paris attraction.. Much of this popularity stems from the Louvre's three famous masterpieces, Leonardo di Vinci's Mona Lisa and two ancient Greek statues, Venus de ...\",\n",
    "        'processed': [\n",
    "            'Versailles Palace is the most-visited palace in France and one of the most famous in Europe. Slow security check lines before you enter mean a 2-4 hour wait in line during most months of the year. Choose a guided tour if you want to spend much or all of a day here.',\n",
    "            'Guided tours get to access a separate, much faster security line. Choose one of these excellent guided tours and avoid the long wait in lines.',\n",
    "            'Versailles Palace & Gardens Full Access Ticket comes with an audio guide. \"Full access\" means you also get entrance to Marie Antoinette\\'s Petit Trianon palace and \"Hamlet\" village.'\n",
    "        ]\n",
    "    }\n",
    "]\n",
    "\n",
    "# Print the Markdown\n",
    "markdown = convert_to_markdown(data)\n",
    "print(markdown)\n"
   ]
  },
  {
   "cell_type": "code",
   "execution_count": 7,
   "metadata": {},
   "outputs": [
    {
     "name": "stdout",
     "output_type": "stream",
     "text": [
      "### 🔹 [34 Best Things to Do in Paris, France - U.S. News Travel](https://travel.usnews.com/Paris_France/Things_To_Do/)\n",
      "> France #1 in Best Places to Visit in France\n",
      "> Credit\n",
      "> Courtesy of James Farley | Getty Images\n",
      "> Overview; ..\n",
      "> Paris Tours\n",
      "> 14 Best Paris Tours: Food, Versailles and More\n",
      "> April 8, 2025.\n",
      "\n",
      "💡 **Processed Notes**:\n",
      "`No Data Available!`\n",
      "\n",
      "---\n",
      "\n",
      "### 🔹 [Top 10 Paris Attractions - Paris Travel Guide](https://www.parisdiscoveryguide.com/paris-attractions-top-10.html)\n",
      "> 2\n",
      "> Louvre Museum (Musée du Louvre) - The Most Visited Museum in the WorldGlass pyramid at the Louvre at night\n",
      "> The enormous Louvre Museum receives over 10 million visitors a year, making it the world's most visited museum and a top Paris attraction.\n",
      "> Much of this popularity stems from the Louvre's three famous masterpieces, Leonardo di Vinci's Mona Lisa and two ancient Greek statues, Venus de ...\n",
      "\n",
      "💡 **Processed Notes**:\n",
      "- Admire Notre Dame Cathedral's medieval Gothic exterior. Stroll through an iconic neighborhood such as the Latin Quarter or Montmartre. See the Mona Lisa and Venus de Milo at the Louvre.\n",
      "- Eiffel Tower ( Tour Eiffel ) - The Number 1 Attraction in Paris. Soaring high above the Paris landscape, the Eiffer Tower symbolizes Paris.\n",
      "- The Eiffel Tower can be seen from many points in the city, but nothing beats the thrill of going up to the observation platforms. A Seine River cruise or a guided bike tour of the city gives you the perfect way to see it.\n",
      "- Guided tours get to access a separate, much faster security line. Choose one of these excellent guided tours and avoid the long wait in lines.\n",
      "- The Latin Quarter was first settled by Romans in the 1st century. Explore the narrow winding side streets filled with old bookstores, tiny bistros, and quirky boutiques. Visit the beautiful old churches filled with artistic treasures.\n",
      "- Musée d'Orsay contains a magnificent collection of world-famous Impressionist and Post-Impressionist art. Join a guided tour if you want to get a look at the most famous paintings unobstructed by massive crowds.\n",
      "- The Arc de Triomphe is surrounded by a busy traffic rotary. Get a ticket and climb the stairs to the observation deck at the top for 360 degree views of Paris. At the base of the monument, visit the Tomb of the Unknown Soldier and eternal flame.\n",
      "- Don't miss the parades and celebrations on Champs Élysées that start at the Arc. Pompidou Center's edgy design features exterior walls of brightly colored tubes and exposed mechanical systems.\n",
      "- Luxembourg Garden is Paris' most popular park. The 60 acres are divided into many distinctive areas. You can even play tennis here.\n",
      "- Monet's famous water lily ponds and garden at Giverny are just one of the top attractions you can see on day trips from Paris. You can leave Paris in the morning and spend the day enjoying famous sights in London, sampling delicious wines and food at a château near Bordeaux.\n",
      "\n",
      "---\n"
     ]
    }
   ],
   "source": [
    "# Print the Markdown\n",
    "markdown = convert_to_markdown(output)\n",
    "print(markdown)"
   ]
  },
  {
   "cell_type": "code",
   "execution_count": null,
   "metadata": {},
   "outputs": [],
   "source": []
  }
 ],
 "metadata": {
  "language_info": {
   "name": "python"
  }
 },
 "nbformat": 4,
 "nbformat_minor": 2
}
