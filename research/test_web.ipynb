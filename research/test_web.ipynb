{
 "cells": [
  {
   "cell_type": "code",
   "execution_count": 1,
   "metadata": {},
   "outputs": [],
   "source": [
    "from xenq_server.components.tool_invoker_json import ToolInvoker"
   ]
  },
  {
   "cell_type": "code",
   "execution_count": 2,
   "metadata": {},
   "outputs": [],
   "source": [
    "tool = ToolInvoker()"
   ]
  },
  {
   "cell_type": "code",
   "execution_count": 4,
   "metadata": {},
   "outputs": [
    {
     "name": "stdout",
     "output_type": "stream",
     "text": [
      "[2025-04-15 17:24:18,010: INFO: lib: response: https://lite.duckduckgo.com/lite/ 200]\n"
     ]
    },
    {
     "data": {
      "text/plain": [
       "[{'title': 'Quantum Machine Learning: What It Is, How It Works, and More',\n",
       "  'href': 'https://www.coursera.org/articles/quantum-machine-learning',\n",
       "  'body': 'Quantum computing promises a quantum leap in processing power that could have big potential for machine learning. Explore this fascinating—and potentially game-changing—technology inside.',\n",
       "  'processed': ['Quantum machine learning uses the power of quantum mechanics and quantum computing to speed up and enhance the machine learning done on the â\\x80\\x9cclassicalâ\\x80” computers we use every day. Explore this fascinating and potentially game-changing technology inside.',\n",
       "   'Quantum machine learning uses algorithms run on quantum devices, such as quantum computers, to supplement, expedite, or support the work performed by a classical machine learning program. Also called quantum-enhanced machine learning , quantum machine learning leverages the information processing power of quantum computers.',\n",
       "   'Quantum computers use quantum mechanics to produce processing power that far outperforms even the most cutting-edge supercomputers used today. Quantum machine learning leverages this out-sized processing power to expedite and improve the development of machine learning models.',\n",
       "   'Quantum computing has the potential to vastly improve computational processing power and turbocharge technological innovation. However, quantum computers are costly to build and maintain and are susceptible to decoherence.',\n",
       "   'Quantum machine learning is still in its infancy. It can be used to develop new machine learning algorithms and speed up existing algorithms. quantum computing and machine learning are still growing and changing.',\n",
       "   'Most quantum computers are large, finicky, and expensive. The primary way you will likely access a quantum computer is through the cloud. Take a look at some of the cloud-based quantum computing platforms you should consider.',\n",
       "   'Explore the fundamentals of deep learning and break into AI in as little as three months. In Deeplearning.AIâ\\x80\\x99s Deep Learning Specialization, you can build and train neural network architectures.']},\n",
       " {'title': 'Quantum machine learning - Wikipedia',\n",
       "  'href': 'https://en.wikipedia.org/wiki/Quantum_machine_learning',\n",
       "  'body': 'Quantum machine learning is the integration of quantum algorithms within machine learning programs. [1][2][3][4][5][6][7][8] The most common use of the term refers to machine learning algorithms for the analysis of classical data executed on a quantum computer, i.e. quantum-enhanced machine learning. [9][10][11] While machine learning algorithms are used to compute immense quantities of data ...',\n",
       "  'processed': ['The goal of algorithms based on amplitude encoding is to formulate quantum algorithms whose resources grow polynomially in the number of qubits. Many quantum machine learning algorithms in this category are based on variations of the quantum algorithm for linear systems of equations.',\n",
       "   'Quantum matrix inversion can be applied to machine learning methods in which the training reduces to solving a linear system of equations. VQAs are one of the most studied classes of quantum algorithms.',\n",
       "   'Quantum annealing starts from a superposition of all possible states of a system, weighted equally. The time-dependent Schrödinger equation guides the time evolution of the system.',\n",
       "   'Quantum machine learning is a type of machine learning. It is based on the idea of an inner product and an activation function. With quantum computing, linear processes may be easily accomplished.',\n",
       "   'HQMMs can be viewed as models inspired by quantum mechanics that can be run on classical computers as well. Recent work has extended HQMMs through the introduction of **Entangled Hidden Markov Models (EHMMs)',\n",
       "   'Quantum Machine Learning is a type of learning theory. The goal for the learner is to learn (exactly or approximately) an unknown target concept. The learner may be actively interacting with the target concept, or passively receiving samples from it.',\n",
       "   'Quantum Hopfield network was implemented in 2009 that mapped the input data and memorized data to Hamiltonians. The training data involved the pre-processing of the image which maps them to normalized 2-dimensional vectors to represent the images as the states of a qubit.',\n",
       "   'ment with quantum capabilities. New architectures are being explored on an experimental basis, up to 32 qubits, using both trapped-ion and superconductive quantum computing methods. No significant advantage of using QRNGs over PRNGs was found.',\n",
       "   're work that needs to be done before claiming quantum machine learning will actually work,\" - computer scientist Iordanis Kerenidis. \"I have not seen a single piece of evidence that there exists a meaningful [machine learning] task for which it would make sense to use a quantum computer,\" - physicist Ryan Sweke of the Free University of Berlin.',\n",
       "   'Quantum machine learning is a type of machine learning. It is used to train computers to learn new skills. It can also be used to teach people how to program computers.']},\n",
       " {'title': 'Introduction to Quantum Machine Learning - GeeksforGeeks',\n",
       "  'href': 'https://www.geeksforgeeks.org/introduction-to-quantum-machine-learning/',\n",
       "  'body': 'The quantum computer, a whole new class of computing system, increases the hardware available for machine learning through quantum machine learning. Quantum theory, which is based on completely different physics, is the foundation for information processing using quantum computers.',\n",
       "  'processed': ['Quantum machine learning (QML) is an interdisciplinary field that integrates quantum physics concepts with machine learning to produce algorithms. The quantum computer, a whole new class of computing system, increases the hardware available for machine learning through quantum machine learning. It is the foundation for addressing the complexities of future communication systems and optimizing their performance.',\n",
       "   'Quantum computers can exist in a superposition of 0 and 1. This is referred to as Quantum bits or Qubits inspired by Quantum Mechanics laws.',\n",
       "   'Quantum entanglement is the result of qubits interacting in a way that makes it impossible to determine a bit’s current state on its own. Large tech companies like Google, IBM, and NASA are already devoting significant financial resources to the development of quantum computing. Machine Learning is all about complicated mathematical calculations with large dimensions of data.',\n",
       "   'Quantum computers use quantum logic gates where the input is a superposition bit and the output is also an entangledsuperposition bit. In this process, the same input qubit can be manipulated to the various required outputs with varying entanglement.',\n",
       "   ' IBM provides access to the most advanced quantum computers for real-world work. Big quantum datasets produced by quantum sensors or simulators can be analyzed using quantum machine learning.',\n",
       "   'Quantum computers still have a long way to go due to significant hardware limitations. The accuracy and dependability of quantum machine learning models may be adversely affected by noise and error-proneness of quantum systems.',\n",
       "   'ifferent from classical algorithms, developing effective and efficient quantum machine learning algorithms is a significant challenge. Scalability: Given that the resources needed to carry out quantum computations grow exponentially with the size of the problem, scaling up quantum machinelearning models to handle big datasets and complicated problems is extremely difficult. Data preparation: Designed data preparation techniques are necessary for quantum machine Learning, and they can be difficult and time-consuming. Results interpretation: Quantum machine learning models are based on states and processes that are fundamental to quantum mechanics.',\n",
       "   'QML is a technique of combining machine learning and quantum computing concepts. QML can aid in the speeding up of existing algorithms, the development of new algorithms, and the solution of complex algorithms.',\n",
       "   'Quantum Machine Learning is an amalgamation of two breakthroughs in the world of science and technology domain, namely Quantum Physics and Machine Learning/ Artificial Intelligence. It is supposed to present a new dimension to how we solve ML problems.',\n",
       "   'Neural Logic Reinforcement Learning is an algorithm that combines logic programming with deep reinforcement learning methods. Data acquisition, or DAQ, is the cornerstone of machine learning.']}]"
      ]
     },
     "execution_count": 4,
     "metadata": {},
     "output_type": "execute_result"
    }
   ],
   "source": [
    "output = await tool.search_web(\"What is Quantum Machine Learning?\", 3)\n",
    "output"
   ]
  },
  {
   "cell_type": "code",
   "execution_count": 11,
   "metadata": {},
   "outputs": [],
   "source": [
    "query = \"How to Become an NLP Scientist\"\n",
    "output = [{'title': 'Natural language processing - Wikipedia',\n",
    "  'href': 'https://en.wikipedia.org/wiki/Natural_language_processing',\n",
    "  'body': 'Natural language processing (NLP) is a subfield of computer science and especially artificial intelligence.It is primarily concerned with providing computers with the ability to process data encoded in natural language and is thus closely related to information retrieval, knowledge representation and computational linguistics, a subfield of linguistics.',\n",
    "  'processed': ['Natural language processing is a subfield of computer science and especially artificial intelligence. It is primarily concerned with providing computers with the ability to process data encoded in natural language and is closely related to information retrieval.',\n",
    "   \"Natural language processing has its roots in the 1950s. Alan Turing proposed what is now called the Turing test as a criterion of intelligence. The premise of symbolic NLP is well-summarized by John Searle 's Chinese room experiment.\",\n",
    "   'wn experiment in 1954 involved fully automatic translation of more than sixty Russian sentences into English. The authors claimed that within three or five years, machine translation would be a solved problem. However, real progress was much slower, and after the ALPAC report in 1966, funding for machine translation was dramatically reduced.',\n",
    "   \"mation about human thought or emotion, ELIZA sometimes provided a startlingly human-like interaction. Ross Quillian 's successful work on natural language was demonstrated with a vocabulary of only twenty words. The 1980s and early 1990s mark the heyday of symbolic methods in NLP.\",\n",
    "   'esearch on rule-based parsing (e.g., the development of HPSG as a computational operationalization of generative grammar. Other lines of research were continued. An important development (that eventually led to the statistical turn in the 1990s) was the rising importance of quantitative evaluation in this period.',\n",
    "   'Early successes in statistical methods in NLP occurred in the field of machine translation. These systems were able to take advantage of existing multilingual textual corpora. Most other systems depended on corpora specifically developed for the tasks implemented.',\n",
    "   'With the growth of the web, increasing amounts of raw (unannotated) language data have become available. Research has thus increasingly focused on unsupervised and semi-supervised learning algorithms. Such algorithms can learn from data that has not been hand-annotated with the desired answers.',\n",
    "   'multi-layer perceptron (with a single hidden layer and context length of several words, trained on up to 14 million words, by Bengio et al.) In the 2010s, representation learning and deep neural network -style (featuring many hidden layers) machine learning methods became widespread in natural language processing. This is increasingly important in medicine and healthcare where NLP helps analyze notes and text in electronic health records.',\n",
    "   'Symbolic approach was historically the first approach used both by AI in general and by NLP. Machine learning approaches, which include both statistical and neural networks, have many advantages over the symbolic approach.',\n",
    "   'Rule-based systems are commonly used when the amount of training data is insufficient to successfully apply machine learning methods. In the late 1980s and mid-1990s, the statistical approach ended a period of AI winter, caused by the inefficiencies of the rule-based approaches.',\n",
    "   'ems of hard if–then rules , were still very similar to the old rule-based approaches. Only the introduction of hidden Markov models , applied to part-of-speech tagging, announced the end of the oldRule-based approach. A major drawback of statistical methods is that they require elaborate feature engineering.',\n",
    "   'Natural language processing tasks can be subdivided into categories for convenience. Some of these tasks have direct real-world applications, while others more commonly serve as subtasks that are used to aid in solving larger tasks.',\n",
    "   'Speech recognition software must be able to recognize the wide variety of input as being identical to each other in terms of its textual equivalent.',\n",
    "   'The task of removing inflectional endings only and to return the base dictionary form of a word is also known as a lemma. Lemmatization is another technique for reducing words to their normalized form. Sometimes this process is also used in cases like bag of words creation in data mining.',\n",
    "   'Given a sentence, determine the part of speech (POS) for each word. Many words, especially common ones, can serve as multiple parts of speech. If this content contains information relevant to the query \"How to Become an NLP Scientist\", summarize only the relevant parts.',\n",
    "   'ming is the process of reducing inflected (or sometimes derived) words to a base form. Stemming yields similar results as lemmatization, but does so on grounds of rules, not a dictionary.',\n",
    "   'Determine the parse tree (grammatical analysis) of a given sentence. For a typical sentence there may be thousands of potential parses. Dependency parsing focuses on the relationships between words in a sentence. Constituency parsing uses a probabilistic context-free grammar (PCFG)',\n",
    "   'Named entity recognition (NER) determines which items in the text map to proper names, such as people or places. Capitalization can aid in recognizing named entities in languages such as English, but is often inaccurate or insufficient.',\n",
    "   'not capitalize names that serve as adjectives . Another name for this task is token classification. Sentiment analysis is a computational method used to identify and classify the emotional intent behind text.',\n",
    "   'More than one meaning is required for a word to make sense in a context. We have to select the meaning which makes the most sense in context. Given a piece of text, produce a formal representation of its semantics.',\n",
    "   'Coreference is concerned with matching up pronouns with nouns or names to which they refer. Discourse analysis can be extended to include full-fledged discourse analysis.',\n",
    "   'This rubric includes several related tasks. One task is discourse parsing, i.e. identifying the discourse structure of a connected text. Another possible task is recognizing and classifying the speech acts in a chunk of text.',\n",
    "   'Argument mining is the automatic extraction and identification of argumentative structures from natural language text with the aid of computer programs. Topic segmentation and recognition is a closely related task.',\n",
    "   'Grammatical error correction is impactful since it affects hundreds of millions of people that use or acquire English as a second language. As far as orthography, morphology, syntax and certain aspects of semantics are concerned, this can now (2019) be considered a largely solved problem.',\n",
    "   'a natural language into formal logic. Natural-language understanding (NLU) Convert chunks of text into more formal representations such as first-order logic structures.',\n",
    "   \"The first machine-generated book was created by a rule-based system in 1984 (Racter, The policeman's beard is half-constructed ). The first published work by a neural network was published in 2018, 1 the Road.\",\n",
    "   'Document AI platform sits on top of the NLP technology. It enables users with no prior experience of artificial intelligence, machine learning or NLP to quickly train a computer to extract the specific data they need from different document types.',\n",
    "   'Based on long-standing trends in the field, it is possible to extrapolate future directions of NLP. Interest on increasingly abstract, \"cognitive\" aspects of natural language. Increasing interest in multilinguality, and, potentially, multimodality.',\n",
    "   'Most higher-level NLP applications involve aspects that emulate intelligent behaviour. Cognition refers to \"the mental action or process of acquiring knowledge and understanding through thought, experience, and the senses\"',\n",
    "   'Cognitive linguistics is an area of computational linguistics that has strong ties with cognitive psychology. NLP algorithms are built from the perspective of cognitive science and linguistics.',\n",
    "   'tive NLP algorithm alike without additional information. Assign relative measures of meaning to a word, phrase, sentence or piece of text based on the information presented before and after the piece ofText being analyzed.',\n",
    "   'Ties with cognitive linguistics are part of the historical heritage of NLP, but they have been less frequently addressed since the statistical turn during the 1990s. Ideas of cognitive NLP are inherent to neural models multimodal NLP and developments in artificial intelligence.',\n",
    "   'Del approaches [ 59 ] and new directions in artificial general intelligence based on the free energy principle. Karl J. Friston at University College London.',\n",
    "   'implification Transformer (machine learning model) Truecasing Question answering Word2vec References [ edit ] ^ \"NLP\" . ^ \"The history of machine translation in a nutshell\" (PDF)',\n",
    "   'Chomskyan linguistics encourages the investigation of \" corner cases \" that stress the limits of its theoretical models. The creation of such corpora of real-world data is a fundamental part of machine-learning algorithms for natural language processing.',\n",
    "   'Your task: If this content contains information relevant to the query \"How to Become an NLP Scientist\", summarize only the relevant parts. If it is not relevant at all, respond only with this exact token.',\n",
    "   'Your task: If this content contains information relevant to the query \"How to Become an NLP Scientist\", summarize only the relevant parts. If it is not relevant at all, respond only with this exact token.',\n",
    "   'Until 2015, deep learning had evolved into the major framework of NLP. This was an early Deep Learning tutorial at the ACL 2012.',\n",
    "   'Your task: If this content contains information relevant to the query \"How to Become an NLP Scientist\", summarize only the relevant parts. If it is not relevant at all, respond only with this exact token.',\n",
    "   'Your task: If this content contains information relevant to the query \"How to Become an NLP Scientist\", summarize only the relevant parts. If it is not relevant at all, respond only with this exact token.',\n",
    "   'Your task: If this content contains information relevant to the query \"How to Become an NLP Scientist\", summarize only the relevant parts. If it is not relevant at all, respond only with this exact token:  \"U B U W E B :: Racter\"',\n",
    "   'Your task: If this content contains information relevant to the query \"How to Become an NLP Scientist\", summarize only the relevant parts. If it is not relevant at all, respond only with this exact token.',\n",
    "   'Cognitive science is an interdisciplinary field of researchers from Linguistics, psychology, neuroscience, philosophy, computer science, and anthropology.',\n",
    "   'Your task: If this content contains information relevant to the query \"How to Become an NLP Scientist\", summarize only the relevant parts. If it is not relevant at all, respond only with this exact token.',\n",
    "   \"NLP models are limited by the amount of context they receive. For example, Cain's Jawbone is a puzzle that has stumped humans for decades.\",\n",
    "   'use [difficulties] for researchers who hope to use them to do things such as analyze ancient languages. There are few historical records on long-gone civilizations to serve as training data for such a purpose.',\n",
    "   'Natural language processing is a branch of computer science. It is used in the fields of machine learning and natural language understanding. The term \"natural language processing\" is used to describe a variety of techniques.',\n",
    "   'Your task: If this content contains information relevant to the query \"How to Become an NLP Scientist\", summarize only the relevant parts. If it is not relevant at all, respond only with this exact token.',\n",
    "   'Your task: If this content contains information relevant to the query \"How to Become an NLP Scientist\", summarize only the relevant parts. If it is not relevant at all, respond only with this exact token: ',\n",
    "   'Your task: If this content contains information relevant to the query \"How to Become an NLP Scientist\", summarize only the relevant parts. If it is not relevant at all, respond only with this exact token.']},\n",
    " {'title': 'How to Become an NLP Scientist - Western Governors University',\n",
    "  'href': 'https://www.wgu.edu/career-guide/information-technology/nlp-scientist-career.html',\n",
    "  'body': 'An NLP scientist is responsible for the technical creation and coding of NLP devices and applications. Ultimately, these professionals provide machines with the ability to understand human languages. Whether an NLP scientist is responsible for the development of a physical device or a mobile application, their project will require the ...',\n",
    "  'processed': ['How to Become an NLP Scientist is responsible for the technical creation and coding of NLP devices and applications. Ultimately, these professionals provide machines with the ability to understand human languages.',\n",
    "   'NLP scientists benefit from undergraduate degrees in computer-related fields. NLP scientists also benefit from experience with the devices or applications to receive NLP technology.',\n",
    "   'An NLP scientist can fulfill a wide variety of tasks. While working to create programs that understand human language, NLP scientists will often interact with other team members.',\n",
    "   'An NLP scientist must satisfy basic education requirements. This includes a bachelor’s degree in computer science or a closely-related technological field.',\n",
    "   \"Lay the groundwork for the computing breakthroughs that will enable tomorrow's technologies. Utilize your previous college courses or IT experience to help you complete your degree faster. Tuition: $4,085 per 6-month term.\",\n",
    "   'A degree in computer science can give you critical IT skills for your future. The M.S. in Computer Science at WGU has three specializations for students to choose from. The specializations are Computing Systems, Human-Computer Interaction, and Machine Learning and Artificial Intelligence.',\n",
    "   'The salary of an NLP scientist averages $105,178 per year, with a range of roughly $78,000 to $139,000 per year. Employment for NLP scientists is expected to see growth of 22% from 2020 to 2021.',\n",
    "   'NLP scientists develop applications, collaborate with team members, and solve problems. Daily, the skills an NLP scientist uses can include: Text representation technique implementation. The ability to associate meaning with individual words in an N LP system.',\n",
    "   'ming languages before systems are approved. These and other skills allow NLP scientists to fulfill the core responsibilities of their job while working well alongside fellow team members. Learn more about degree programs that can prepare you for this meaningful career.',\n",
    "   'Your task: If this content contains information relevant to the query \"How to Become an NLP Scientist\", summarize only the relevant parts. If it is not relevant at all, respond only with this exact token.']\n",
    "}]\n"
   ]
  },
  {
   "cell_type": "code",
   "execution_count": 12,
   "metadata": {},
   "outputs": [],
   "source": [
    "query = \"How to Become an NLP Scientist\"\n",
    "import random\n",
    "for data in output:\n",
    "    processed = [chunk for chunk in data[\"processed\"] if query not in chunk]\n",
    "    total = len(processed)\n",
    "    if total <= 10:\n",
    "        data[\"processed\"] = processed  # Keep all if 10 or fewer\n",
    "    else:\n",
    "        indices = sorted(random.sample(range(total), 10))  # Unique, sorted indices\n",
    "        data[\"processed\"] = [processed[i] for i in indices]"
   ]
  },
  {
   "cell_type": "code",
   "execution_count": 13,
   "metadata": {},
   "outputs": [
    {
     "data": {
      "text/plain": [
       "[{'title': 'Natural language processing - Wikipedia',\n",
       "  'href': 'https://en.wikipedia.org/wiki/Natural_language_processing',\n",
       "  'body': 'Natural language processing (NLP) is a subfield of computer science and especially artificial intelligence.It is primarily concerned with providing computers with the ability to process data encoded in natural language and is thus closely related to information retrieval, knowledge representation and computational linguistics, a subfield of linguistics.',\n",
       "  'processed': [\"Natural language processing has its roots in the 1950s. Alan Turing proposed what is now called the Turing test as a criterion of intelligence. The premise of symbolic NLP is well-summarized by John Searle 's Chinese room experiment.\",\n",
       "   'esearch on rule-based parsing (e.g., the development of HPSG as a computational operationalization of generative grammar. Other lines of research were continued. An important development (that eventually led to the statistical turn in the 1990s) was the rising importance of quantitative evaluation in this period.',\n",
       "   'Early successes in statistical methods in NLP occurred in the field of machine translation. These systems were able to take advantage of existing multilingual textual corpora. Most other systems depended on corpora specifically developed for the tasks implemented.',\n",
       "   'With the growth of the web, increasing amounts of raw (unannotated) language data have become available. Research has thus increasingly focused on unsupervised and semi-supervised learning algorithms. Such algorithms can learn from data that has not been hand-annotated with the desired answers.',\n",
       "   'Natural language processing tasks can be subdivided into categories for convenience. Some of these tasks have direct real-world applications, while others more commonly serve as subtasks that are used to aid in solving larger tasks.',\n",
       "   'not capitalize names that serve as adjectives . Another name for this task is token classification. Sentiment analysis is a computational method used to identify and classify the emotional intent behind text.',\n",
       "   'Most higher-level NLP applications involve aspects that emulate intelligent behaviour. Cognition refers to \"the mental action or process of acquiring knowledge and understanding through thought, experience, and the senses\"',\n",
       "   'Del approaches [ 59 ] and new directions in artificial general intelligence based on the free energy principle. Karl J. Friston at University College London.',\n",
       "   'Chomskyan linguistics encourages the investigation of \" corner cases \" that stress the limits of its theoretical models. The creation of such corpora of real-world data is a fundamental part of machine-learning algorithms for natural language processing.',\n",
       "   'Natural language processing is a branch of computer science. It is used in the fields of machine learning and natural language understanding. The term \"natural language processing\" is used to describe a variety of techniques.']},\n",
       " {'title': 'How to Become an NLP Scientist - Western Governors University',\n",
       "  'href': 'https://www.wgu.edu/career-guide/information-technology/nlp-scientist-career.html',\n",
       "  'body': 'An NLP scientist is responsible for the technical creation and coding of NLP devices and applications. Ultimately, these professionals provide machines with the ability to understand human languages. Whether an NLP scientist is responsible for the development of a physical device or a mobile application, their project will require the ...',\n",
       "  'processed': ['NLP scientists benefit from undergraduate degrees in computer-related fields. NLP scientists also benefit from experience with the devices or applications to receive NLP technology.',\n",
       "   'An NLP scientist can fulfill a wide variety of tasks. While working to create programs that understand human language, NLP scientists will often interact with other team members.',\n",
       "   'An NLP scientist must satisfy basic education requirements. This includes a bachelor’s degree in computer science or a closely-related technological field.',\n",
       "   \"Lay the groundwork for the computing breakthroughs that will enable tomorrow's technologies. Utilize your previous college courses or IT experience to help you complete your degree faster. Tuition: $4,085 per 6-month term.\",\n",
       "   'A degree in computer science can give you critical IT skills for your future. The M.S. in Computer Science at WGU has three specializations for students to choose from. The specializations are Computing Systems, Human-Computer Interaction, and Machine Learning and Artificial Intelligence.',\n",
       "   'The salary of an NLP scientist averages $105,178 per year, with a range of roughly $78,000 to $139,000 per year. Employment for NLP scientists is expected to see growth of 22% from 2020 to 2021.',\n",
       "   'NLP scientists develop applications, collaborate with team members, and solve problems. Daily, the skills an NLP scientist uses can include: Text representation technique implementation. The ability to associate meaning with individual words in an N LP system.',\n",
       "   'ming languages before systems are approved. These and other skills allow NLP scientists to fulfill the core responsibilities of their job while working well alongside fellow team members. Learn more about degree programs that can prepare you for this meaningful career.']}]"
      ]
     },
     "execution_count": 13,
     "metadata": {},
     "output_type": "execute_result"
    }
   ],
   "source": [
    "output"
   ]
  },
  {
   "cell_type": "code",
   "execution_count": null,
   "metadata": {},
   "outputs": [],
   "source": []
  }
 ],
 "metadata": {
  "language_info": {
   "name": "python"
  }
 },
 "nbformat": 4,
 "nbformat_minor": 2
}
